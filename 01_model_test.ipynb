{
 "cells": [
  {
   "cell_type": "markdown",
   "metadata": {},
   "source": [
    "# Model test for GR4J JAX implementation\n",
    "DARE, 2022\n",
    "Written by Joshua Simmons\n",
    "\n",
    "This notebook runs tets to compare the JAX implementation of the GR4J model to the numpy implementation from the RRMPG package."
   ]
  },
  {
   "cell_type": "code",
   "execution_count": 1,
   "metadata": {},
   "outputs": [
    {
     "name": "stdout",
     "output_type": "stream",
     "text": [
      "Automatic pdb calling has been turned ON\n"
     ]
    }
   ],
   "source": [
    "%pdb 1\n",
    "%load_ext autoreload\n",
    "%autoreload 2"
   ]
  },
  {
   "cell_type": "markdown",
   "metadata": {},
   "source": [
    "## Settings and imports"
   ]
  },
  {
   "cell_type": "code",
   "execution_count": 8,
   "metadata": {},
   "outputs": [],
   "source": [
    "import os, sys\n",
    "import numpy as np\n",
    "\n",
    "# allow import from base directory\n",
    "if not '/project' in sys.path:\n",
    "    sys.path.insert(0,'/project')\n",
    "\n",
    "from tests import TestGR4J_jax, TestGR4J_np"
   ]
  },
  {
   "cell_type": "markdown",
   "metadata": {},
   "source": [
    "## Test each model\n",
    "Check that the model passes tests"
   ]
  },
  {
   "cell_type": "markdown",
   "metadata": {},
   "source": [
    "First we will assess the JAX implementation looking for passes on the zeros test and for the RRMPG reference simulated data."
   ]
  },
  {
   "cell_type": "code",
   "execution_count": 9,
   "metadata": {},
   "outputs": [
    {
     "name": "stdout",
     "output_type": "stream",
     "text": [
      "Zero test passed:  True\n",
      "Zero test qsim:  0.0\n",
      "Sim test passed:  True\n",
      "Sim RMSE: 0.000\n",
      "Sim test residuals:  0     -1.240458e-06\n",
      "1      5.520408e-07\n",
      "2      1.718638e-06\n",
      "3      2.320098e-06\n",
      "4      3.095502e-06\n",
      "           ...     \n",
      "725   -8.393862e-08\n",
      "726    1.999006e-06\n",
      "727   -1.965683e-06\n",
      "728   -7.629578e-08\n",
      "729    1.851460e-06\n",
      "Name: qsim_excel, Length: 730, dtype: float64\n"
     ]
    }
   ],
   "source": [
    "gr4j_test = TestGR4J_jax()\n",
    "zero_test, zero_qsim = gr4j_test.test_simulate_zero_rain()\n",
    "qsim_jax, sim_test, sim_residuals = gr4j_test.test_simulate_compare_against_excel()\n",
    "\n",
    "print('Zero test passed: ', zero_test)\n",
    "print('Zero test qsim: ', zero_qsim)\n",
    "print('Sim test passed: ', sim_test)\n",
    "print ('Sim RMSE: {:.3f}'.format(np.sqrt(np.mean(sim_residuals**2))))\n",
    "print('Sim test residuals: ', sim_residuals)"
   ]
  },
  {
   "cell_type": "markdown",
   "metadata": {},
   "source": [
    "Next we will test the RRMPG numpy implementation in the same way."
   ]
  },
  {
   "cell_type": "code",
   "execution_count": 6,
   "metadata": {},
   "outputs": [
    {
     "name": "stdout",
     "output_type": "stream",
     "text": [
      "Zero test passed:  True\n",
      "Zero test qsim:  0.0\n",
      "Sim test passed:  True\n",
      "Sim RMSE: 0.000\n",
      "Sim test residuals:  0      2.147349e-11\n",
      "1     -6.466827e-12\n",
      "2      2.953904e-11\n",
      "3     -4.435741e-11\n",
      "4     -1.039169e-12\n",
      "           ...     \n",
      "725   -1.139222e-11\n",
      "726   -1.962208e-11\n",
      "727    4.527223e-11\n",
      "728    3.537615e-11\n",
      "729   -3.712586e-12\n",
      "Name: qsim_excel, Length: 730, dtype: float64\n"
     ]
    }
   ],
   "source": [
    "gr4j_test = TestGR4J_np()\n",
    "zero_test, zero_qsim = gr4j_test.test_simulate_zero_rain()\n",
    "qsim_np, sim_test, sim_residuals = gr4j_test.test_simulate_compare_against_excel()\n",
    "\n",
    "print('Zero test passed: ', zero_test)\n",
    "print('Zero test qsim: ', zero_qsim)\n",
    "print('Sim test passed: ', sim_test)\n",
    "print ('Sim RMSE: {:.3f}'.format(np.sqrt(np.mean(sim_residuals**2))))\n",
    "print('Sim test residuals: ', sim_residuals)"
   ]
  },
  {
   "cell_type": "code",
   "execution_count": null,
   "metadata": {},
   "outputs": [],
   "source": []
  }
 ],
 "metadata": {
  "kernelspec": {
   "display_name": "Python 3.9.7 ('hydrology')",
   "language": "python",
   "name": "python3"
  },
  "language_info": {
   "codemirror_mode": {
    "name": "ipython",
    "version": 3
   },
   "file_extension": ".py",
   "mimetype": "text/x-python",
   "name": "python",
   "nbconvert_exporter": "python",
   "pygments_lexer": "ipython3",
   "version": "3.9.7"
  },
  "vscode": {
   "interpreter": {
    "hash": "b2239f4e361ab278b0ac453c9c7f16018d1d9065f476fef4d9546b6126151a6e"
   }
  }
 },
 "nbformat": 4,
 "nbformat_minor": 4
}
